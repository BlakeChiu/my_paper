{
 "cells": [
  {
   "cell_type": "code",
   "execution_count": 1,
   "metadata": {},
   "outputs": [],
   "source": [
    "import pandas as pd\n",
    "import numpy as np\n",
    "import warnings\n",
    "import plotly.express as px\n",
    "import surprise \n",
    "from surprise import SVD,Dataset,Reader,accuracy\n",
    "from surprise.model_selection import cross_validate\n",
    "from sklearn.feature_extraction.text import TfidfTransformer\n",
    "from sklearn.model_selection import train_test_split\n",
    "from sklearn.impute import KNNImputer\n",
    "from sklearn.linear_model import Ridge\n",
    "from math import sqrt\n",
    "from collections import defaultdict\n",
    "warnings.filterwarnings(\"ignore\")"
   ]
  },
  {
   "attachments": {},
   "cell_type": "markdown",
   "metadata": {},
   "source": [
    "## 匯入資料集"
   ]
  },
  {
   "cell_type": "code",
   "execution_count": 2,
   "metadata": {},
   "outputs": [
    {
     "name": "stdout",
     "output_type": "stream",
     "text": [
      "Number of users: 943\n"
     ]
    }
   ],
   "source": [
    "user_columns=[\"user_id\",\"age\",\"sex\",\"occupation\",\"zip_code\"]\n",
    "users=pd.read_csv(\"D:/自己的論文/ml-100k/u.user\",sep=\"|\",names=user_columns)\n",
    "usernum=users.shape[0]\n",
    "print(\"Number of users:\",usernum)"
   ]
  },
  {
   "cell_type": "code",
   "execution_count": 3,
   "metadata": {},
   "outputs": [
    {
     "name": "stdout",
     "output_type": "stream",
     "text": [
      "    user_id  movie_id  rating  unix_timestamp\n",
      "0         1         1       5       874965758\n",
      "1         1         2       3       876893171\n",
      "2         1         3       4       878542960\n",
      "3         1         4       3       876893119\n",
      "4         1         5       3       889751712\n",
      "5         1         6       5       887431973\n",
      "6         1         7       4       875071561\n",
      "7         1         8       1       875072484\n",
      "8         1         9       5       878543541\n",
      "9         1        10       3       875693118\n",
      "10        1        11       2       875072262\n",
      "11        1        12       5       878542960\n",
      "12        1        13       5       875071805\n",
      "13        1        14       5       874965706\n",
      "14        1        15       5       875071608\n",
      "15        1        16       5       878543541\n",
      "16        1        17       3       875073198\n",
      "17        1        18       4       887432020\n",
      "18        1        19       5       875071515\n",
      "19        1        21       1       878542772\n",
      "Number of train rates: 90570\n",
      "Number of test rates: 90570\n"
     ]
    }
   ],
   "source": [
    "r_col=[\"user_id\",\"movie_id\",\"rating\",\"unix_timestamp\"]\n",
    "rating_base=pd.read_csv(\"D:/自己的論文/ml-100k/ua.base\",sep=\"\\t\", names=r_col,encoding=\"latin-1\")\n",
    "rating_test=pd.read_csv(\"D:/自己的論文/ml-100k/ua.test\",sep=\"\\t\", names=r_col,encoding=\"latin-1\")\n",
    "\n",
    "trainrate=rating_base.values\n",
    "testrate=rating_base.values\n",
    "print(rating_base[0:20])\n",
    "\n",
    "print(\"Number of train rates:\",trainrate.shape[0])\n",
    "print(\"Number of test rates:\",trainrate.shape[0])"
   ]
  },
  {
   "cell_type": "code",
   "execution_count": 4,
   "metadata": {},
   "outputs": [
    {
     "name": "stdout",
     "output_type": "stream",
     "text": [
      "Number of items: 1682\n"
     ]
    }
   ],
   "source": [
    "#item\n",
    "i_col=[\"movie_id\", \"movie title\", \"release date\", \"video date\", \"IMDB URL\", \"unknown\", \"Action\", \"Adventure\",\n",
    "       \"Animation\", \"Children\", \"Comedy\", \"Crime\", \"Documentary\", \"Drama\", \"Fantasy\",\"Film-Noir\", \n",
    "       \"Horror\", \"Musical\", \"Mystery\", \"Romance\", \"Sci-Fi\", \"Thriller\", \"War\", \"Western\"]\n",
    "\n",
    "items=pd.read_csv(\"D:/自己的論文/ml-100k/u.item\",sep=\"|\",names=i_col,encoding=\"latin-1\")\n",
    "\n",
    "n_items=items.shape[0]\n",
    "print(\"Number of items:\",n_items)"
   ]
  },
  {
   "cell_type": "code",
   "execution_count": 5,
   "metadata": {},
   "outputs": [
    {
     "name": "stdout",
     "output_type": "stream",
     "text": [
      "(1682, 19)\n"
     ]
    }
   ],
   "source": [
    "xitem=items.values\n",
    "\n",
    "x_train_counts=xitem[:,-19:]\n",
    "print(x_train_counts.shape)"
   ]
  },
  {
   "cell_type": "code",
   "execution_count": 6,
   "metadata": {},
   "outputs": [
    {
     "name": "stdout",
     "output_type": "stream",
     "text": [
      "[0 0 0 1 1 1 0 0 0 0 0 0 0 0 0 0 0 0 0]\n",
      "[[0.         0.         0.         ... 0.         0.         0.        ]\n",
      " [0.         0.53676706 0.65097024 ... 0.53676706 0.         0.        ]\n",
      " [0.         0.         0.         ... 1.         0.         0.        ]\n",
      " ...\n",
      " [0.         0.         0.         ... 0.         0.         0.        ]\n",
      " [0.         0.         0.         ... 0.         0.         0.        ]\n",
      " [0.         0.         0.         ... 0.         0.         0.        ]]\n"
     ]
    }
   ],
   "source": [
    "transformer=TfidfTransformer(smooth_idf=True,norm=\"l2\")\n",
    "tfidf=transformer.fit_transform(x_train_counts.tolist()).toarray()\n",
    "print(x_train_counts[0])\n",
    "print(tfidf)"
   ]
  },
  {
   "cell_type": "code",
   "execution_count": 7,
   "metadata": {},
   "outputs": [
    {
     "name": "stdout",
     "output_type": "stream",
     "text": [
      "[[0 5]\n",
      " [1 3]\n",
      " [2 4]\n",
      " [3 3]\n",
      " [4 3]\n",
      " [5 5]\n",
      " [6 4]\n",
      " [7 1]\n",
      " [8 5]\n",
      " [9 3]]\n"
     ]
    }
   ],
   "source": [
    "def get_items_rated_by_user(rate_matrix,user_id):\n",
    "    \"\"\"\n",
    "    回傳(item_ids,scores)\n",
    "    \"\"\"\n",
    "    y=rate_matrix[:,0] #users\n",
    "    #得到使用者評分\n",
    "    #初始user_id = 1\n",
    "    ids=np.where(y == user_id +1)[0]\n",
    "    item_ids=rate_matrix[ids, 1] - 1 #ids - 1\n",
    "    scores=rate_matrix[ids, 2]\n",
    "    return (item_ids,scores)\n",
    "\n",
    "ids,scores=get_items_rated_by_user(trainrate,0)\n",
    "list_head=np.concatenate((ids.reshape(len(ids),1), scores.reshape(len(scores),1)),axis=1)[0:10]\n",
    "print(list_head)"
   ]
  },
  {
   "cell_type": "code",
   "execution_count": 8,
   "metadata": {},
   "outputs": [],
   "source": [
    "#接著做一些線性回歸來預測\n",
    "d=tfidf.shape[1] #數據維度\n",
    "w=np.zeros((d,usernum))\n",
    "b=np.zeros((1,usernum))\n",
    "\n",
    "for n in range(usernum):\n",
    "    ids,scores=get_items_rated_by_user(trainrate,n)\n",
    "    clf=Ridge(alpha=0.01,fit_intercept=True)\n",
    "    xhat=tfidf[ids,:]\n",
    "\n",
    "    clf.fit(xhat,scores)\n",
    "    w[:,n]=clf.coef_\n",
    "    b[0,n]=clf.intercept_"
   ]
  },
  {
   "cell_type": "code",
   "execution_count": 9,
   "metadata": {},
   "outputs": [],
   "source": [
    "#預測模型\n",
    "yhat=tfidf.dot(w) + b #課堂公式"
   ]
  },
  {
   "cell_type": "code",
   "execution_count": 10,
   "metadata": {},
   "outputs": [
    {
     "name": "stdout",
     "output_type": "stream",
     "text": [
      "Rate movie ids: [  0   1   2   3   4   5   6   7   8   9  10  11  12  13  14  15  16  17\n",
      "  18  20  21  22  23  24  25  26  27  28  29  30  31  33  34  35  36  37\n",
      "  38  39  40  41  42  43  44  45  46  47  48  49  50  51  52  53  54  55\n",
      "  56  57  58  59  61  62  63  64  65  66  67  68  69  70  71  72  73  74\n",
      "  75  76  77  78  79  80  81  82  83  84  85  86  87  88  89  90  91  92\n",
      "  93  94  95  96  97  98  99 100 101 102 103 104 105 106 107 108 109 110\n",
      " 111 112 113 114 115 117 118 119 120 121 122 123 124 125 126 127 128 129\n",
      " 130 131 132 133 134 135 136 137 138 139 140 141 142 143 144 145 146 147\n",
      " 148 149 150 151 152 153 155 156 157 158 160 161 162 163 164 165 166 167\n",
      " 168 169 171 172 173 174 175 176 177 178 179 180 181 182 183 184 185 186\n",
      " 187 189 190 191 192 193 194 195 196 197 198 199 200 202 203 204 205 206\n",
      " 207 208 209 210 211 212 213 214 215 216 217 218 219 220 221 222 223 224\n",
      " 225 226 227 228 229 230 231 232 233 234 235 236 237 238 239 240 241 242\n",
      " 243 244 245 246 247 248 249 250 251 252 253 254 255 256 257 258 259 260\n",
      " 261 262 263 265 266 267 268 269 270 271]\n",
      "True ratings: [5 3 4 3 3 5 4 1 5 3 2 5 5 5 5 5 3 4 5 1 4 4 3 4 3 2 4 1 3 3 5 2 1 2 2 3 4\n",
      " 3 2 5 4 5 5 4 4 5 3 5 4 4 3 3 5 4 5 4 5 5 3 2 5 4 4 3 4 3 3 3 4 3 1 4 4 4\n",
      " 1 4 4 5 5 3 4 3 5 5 4 5 4 5 3 5 2 4 5 3 4 3 5 2 2 1 1 2 4 4 5 5 1 5 1 5 5\n",
      " 5 3 3 5 1 4 3 4 5 3 2 5 4 5 3 1 4 4 4 4 3 5 1 3 1 3 2 1 4 2 4 3 2 2 5 4 5\n",
      " 3 5 4 4 3 3 4 4 4 3 5 5 2 5 5 5 5 5 5 5 5 5 5 3 3 5 4 5 4 4 4 4 3 5 5 4 4\n",
      " 4 5 5 5 5 4 3 3 4 5 3 4 5 5 4 4 3 4 2 4 3 5 3 3 1 3 5 4 5 5 2 3 4 5 4 4 1\n",
      " 3 2 4 5 4 2 4 4 3 4 5 1 2 2 5 1 4 4 4 4 2 5 1 2 4 4 5 1 1 1 3 1 2 1 4 5 5\n",
      " 5 2 3]\n",
      "Predicted ratings: [3.0260256  3.49831944 2.53639671 2.97691142 3.62160013 2.27814367\n",
      " 2.45229215 2.93816951 2.27814367 3.28888401 3.52116193 3.52116193\n",
      " 2.10970401 3.34104676 2.27814367 3.20646314 3.89134038 2.27814367\n",
      " 2.27814367 3.15670909 3.63355794 2.73509633 3.97344965 2.10970401\n",
      " 2.10970401 2.76890234 3.20102016 3.98733949 2.27814367 3.50845852\n",
      " 1.64974776 2.40568427 3.3454958  3.34104676 2.27814367 2.65444617\n",
      " 3.58687944 2.10970401 2.10970401 2.10970401 2.73509633 2.73509633\n",
      " 2.40568427 2.27814367 2.40568427 1.64974776 3.20646314 4.28926091\n",
      " 3.79981041 2.27814367 3.06806504 3.20102016 4.15848028 3.43538111\n",
      " 2.27814367 2.27814367 2.27814367 2.27814367 3.27516929 2.78146401\n",
      " 2.27814367 2.40568427 3.20646314 2.10970401 3.73483426 3.81503498\n",
      " 3.20646314 2.69123001 2.5342546  2.94272928 2.97691142 1.64974776\n",
      " 3.43538111 2.73509633 3.3454958  3.06806504 3.5594128  3.20646314\n",
      " 3.27516929 3.20646314 2.58746517 2.10970401 2.27814367 2.27814367\n",
      " 3.20646314 1.99614976 3.42031263 2.4357991  4.20590635 2.40568427\n",
      " 2.78146401 2.7793936  3.08906453 3.06888064 2.73509633 2.69123001\n",
      " 3.62160013 3.57993814 2.94708366 2.69123001 2.10970401 2.10970401\n",
      " 2.73509633 2.27814367 2.10970401 2.38860531 3.89748085 3.20646314\n",
      " 3.22555937 2.27814367 2.48130389 1.64974776 2.10970401 3.49831944\n",
      " 1.64974776 3.33119769 3.50766313 2.10970401 2.51765149 1.89699136\n",
      " 3.34104676 2.27814367 3.75458236 3.06806504 4.15848028 3.33091686\n",
      " 3.34104676 2.96307685 3.89531472 2.27814367 2.54081774 2.27814367\n",
      " 2.27814367 2.78146401 2.78146401 3.22555937 2.73580072 2.83890344\n",
      " 1.64974776 3.06806504 3.08906453 2.27814367 3.06806504 3.27662715\n",
      " 2.27814367 2.40568427 3.2779629  2.38860531 2.10970401 2.10970401\n",
      " 3.52116193 3.28888401 2.10970401 2.14528635 3.57587534 2.27814367\n",
      " 2.10970401 3.499394   2.27814367 2.27814367 2.10970401 2.10970401\n",
      " 2.59806275 3.32271681 4.36302545 3.89280224 3.27662715 2.23721065\n",
      " 3.70812419 2.85816594 2.27814367 2.23721065 3.28888401 4.28926091\n",
      " 3.43538111 3.25200455 3.47011619 3.4357554  2.39668805 3.75458236\n",
      " 3.63355794 3.28888401 1.89699136 2.27814367 2.27814367 3.33119769\n",
      " 3.08906453 2.27814367 3.34104676 2.53639671 3.28888401 2.3867192\n",
      " 3.41861531 2.40337326 2.38860531 3.28888401 3.35220256 3.66449632\n",
      " 2.51765149 2.06369737 3.27662715 3.20315313 2.27814367 3.34104676\n",
      " 2.82888925 2.27814367 3.20646314 3.20045796 2.53639671 2.3867192\n",
      " 3.20646314 2.27814367 3.27516929 2.73509633 2.27814367 2.78146401\n",
      " 3.06806504 3.27516929 3.27516929 3.27516929 3.27516929 3.98733949\n",
      " 2.94272928 2.76890234 2.90909942 3.55567149 2.40568427 3.34104676\n",
      " 2.10970401 3.36378064 2.59806275 4.08111257 2.10970401 2.78146401\n",
      " 3.20102016 3.81684643 3.34104676 3.57366506 3.33119769 2.10970401\n",
      " 2.79538864 2.10970401 3.499394   3.34104676 3.97344965 3.20646314\n",
      " 3.20646314 3.33366504 2.45229215 2.78146401 2.79063436 2.78146401\n",
      " 2.27814367 2.76890234 2.65444617 3.27662715 1.64974776 3.34104676\n",
      " 2.10970401 2.81312065 3.84969263 2.27814367]\n"
     ]
    }
   ],
   "source": [
    "n=100\n",
    "ids,scores=get_items_rated_by_user(testrate,0)\n",
    "yhat[n,ids]\n",
    "print(\"Rate movie ids:\",ids)\n",
    "print(\"True ratings:\",scores)\n",
    "print(\"Predicted ratings:\",yhat[ids,n])"
   ]
  },
  {
   "cell_type": "code",
   "execution_count": 11,
   "metadata": {},
   "outputs": [],
   "source": [
    "def evaluate(yhat,rates,W,b):\n",
    "    se=0\n",
    "    cnt=0\n",
    "    for n in range(usernum):\n",
    "        ids,scores_truth=get_items_rated_by_user(rates,n)\n",
    "        scores_pred=yhat[ids,n]\n",
    "        e=scores_truth - scores_pred\n",
    "        se+=(e*e).sum(axis=0)\n",
    "        cnt+=e.size\n",
    "    return sqrt(se/cnt)"
   ]
  },
  {
   "cell_type": "code",
   "execution_count": 12,
   "metadata": {},
   "outputs": [
    {
     "name": "stdout",
     "output_type": "stream",
     "text": [
      "RMSE for training: 0.9089804562826721\n",
      "MAE for test: 0.9089804562826721\n"
     ]
    }
   ],
   "source": [
    "print(\"RMSE for training:\",evaluate(yhat,trainrate,w,b))\n",
    "print(\"MAE for test:\",evaluate(yhat,testrate,w,b))"
   ]
  },
  {
   "attachments": {},
   "cell_type": "markdown",
   "metadata": {},
   "source": [
    "# 嘗試別的方法"
   ]
  },
  {
   "cell_type": "code",
   "execution_count": 13,
   "metadata": {},
   "outputs": [
    {
     "data": {
      "text/html": [
       "<div>\n",
       "<style scoped>\n",
       "    .dataframe tbody tr th:only-of-type {\n",
       "        vertical-align: middle;\n",
       "    }\n",
       "\n",
       "    .dataframe tbody tr th {\n",
       "        vertical-align: top;\n",
       "    }\n",
       "\n",
       "    .dataframe thead th {\n",
       "        text-align: right;\n",
       "    }\n",
       "</style>\n",
       "<table border=\"1\" class=\"dataframe\">\n",
       "  <thead>\n",
       "    <tr style=\"text-align: right;\">\n",
       "      <th></th>\n",
       "      <th>user_id</th>\n",
       "      <th>movie_id</th>\n",
       "      <th>rating</th>\n",
       "      <th>timestamp</th>\n",
       "    </tr>\n",
       "  </thead>\n",
       "  <tbody>\n",
       "    <tr>\n",
       "      <th>0</th>\n",
       "      <td>196</td>\n",
       "      <td>242</td>\n",
       "      <td>3</td>\n",
       "      <td>881250949</td>\n",
       "    </tr>\n",
       "    <tr>\n",
       "      <th>1</th>\n",
       "      <td>186</td>\n",
       "      <td>302</td>\n",
       "      <td>3</td>\n",
       "      <td>891717742</td>\n",
       "    </tr>\n",
       "    <tr>\n",
       "      <th>2</th>\n",
       "      <td>22</td>\n",
       "      <td>377</td>\n",
       "      <td>1</td>\n",
       "      <td>878887116</td>\n",
       "    </tr>\n",
       "    <tr>\n",
       "      <th>3</th>\n",
       "      <td>244</td>\n",
       "      <td>51</td>\n",
       "      <td>2</td>\n",
       "      <td>880606923</td>\n",
       "    </tr>\n",
       "    <tr>\n",
       "      <th>4</th>\n",
       "      <td>166</td>\n",
       "      <td>346</td>\n",
       "      <td>1</td>\n",
       "      <td>886397596</td>\n",
       "    </tr>\n",
       "  </tbody>\n",
       "</table>\n",
       "</div>"
      ],
      "text/plain": [
       "   user_id  movie_id  rating  timestamp\n",
       "0      196       242       3  881250949\n",
       "1      186       302       3  891717742\n",
       "2       22       377       1  878887116\n",
       "3      244        51       2  880606923\n",
       "4      166       346       1  886397596"
      ]
     },
     "execution_count": 13,
     "metadata": {},
     "output_type": "execute_result"
    }
   ],
   "source": [
    "r_cols=[\"user_id\",\"movie_id\",\"rating\",\"timestamp\"]\n",
    "ratings=pd.read_csv(\"D:/自己的論文/ml-100k/u.data\",sep=\"\\t\",names=r_cols,encoding=\"latin-1\")\n",
    "ratings.head()"
   ]
  },
  {
   "cell_type": "code",
   "execution_count": 14,
   "metadata": {},
   "outputs": [
    {
     "data": {
      "application/vnd.plotly.v1+json": {
       "config": {
        "plotlyServerURL": "https://plot.ly"
       },
       "data": [
        {
         "alignmentgroup": "True",
         "hovertemplate": "variable=rating<br>Movie Rating=%{x}<br>Count of records (% of total)=%{y}<extra></extra>",
         "legendgroup": "rating",
         "marker": {
          "color": "#636efa",
          "pattern": {
           "shape": ""
          }
         },
         "name": "rating",
         "offsetgroup": "rating",
         "orientation": "v",
         "showlegend": true,
         "textposition": "auto",
         "type": "bar",
         "x": [
          4,
          3,
          5,
          2,
          1
         ],
         "xaxis": "x",
         "y": [
          0.34174,
          0.27145,
          0.21201,
          0.1137,
          0.0611
         ],
         "yaxis": "y"
        }
       ],
       "layout": {
        "barmode": "relative",
        "height": 400,
        "legend": {
         "title": {
          "text": "variable"
         },
         "tracegroupgap": 0
        },
        "showlegend": false,
        "template": {
         "data": {
          "bar": [
           {
            "error_x": {
             "color": "#2a3f5f"
            },
            "error_y": {
             "color": "#2a3f5f"
            },
            "marker": {
             "line": {
              "color": "#E5ECF6",
              "width": 0.5
             },
             "pattern": {
              "fillmode": "overlay",
              "size": 10,
              "solidity": 0.2
             }
            },
            "type": "bar"
           }
          ],
          "barpolar": [
           {
            "marker": {
             "line": {
              "color": "#E5ECF6",
              "width": 0.5
             },
             "pattern": {
              "fillmode": "overlay",
              "size": 10,
              "solidity": 0.2
             }
            },
            "type": "barpolar"
           }
          ],
          "carpet": [
           {
            "aaxis": {
             "endlinecolor": "#2a3f5f",
             "gridcolor": "white",
             "linecolor": "white",
             "minorgridcolor": "white",
             "startlinecolor": "#2a3f5f"
            },
            "baxis": {
             "endlinecolor": "#2a3f5f",
             "gridcolor": "white",
             "linecolor": "white",
             "minorgridcolor": "white",
             "startlinecolor": "#2a3f5f"
            },
            "type": "carpet"
           }
          ],
          "choropleth": [
           {
            "colorbar": {
             "outlinewidth": 0,
             "ticks": ""
            },
            "type": "choropleth"
           }
          ],
          "contour": [
           {
            "colorbar": {
             "outlinewidth": 0,
             "ticks": ""
            },
            "colorscale": [
             [
              0,
              "#0d0887"
             ],
             [
              0.1111111111111111,
              "#46039f"
             ],
             [
              0.2222222222222222,
              "#7201a8"
             ],
             [
              0.3333333333333333,
              "#9c179e"
             ],
             [
              0.4444444444444444,
              "#bd3786"
             ],
             [
              0.5555555555555556,
              "#d8576b"
             ],
             [
              0.6666666666666666,
              "#ed7953"
             ],
             [
              0.7777777777777778,
              "#fb9f3a"
             ],
             [
              0.8888888888888888,
              "#fdca26"
             ],
             [
              1,
              "#f0f921"
             ]
            ],
            "type": "contour"
           }
          ],
          "contourcarpet": [
           {
            "colorbar": {
             "outlinewidth": 0,
             "ticks": ""
            },
            "type": "contourcarpet"
           }
          ],
          "heatmap": [
           {
            "colorbar": {
             "outlinewidth": 0,
             "ticks": ""
            },
            "colorscale": [
             [
              0,
              "#0d0887"
             ],
             [
              0.1111111111111111,
              "#46039f"
             ],
             [
              0.2222222222222222,
              "#7201a8"
             ],
             [
              0.3333333333333333,
              "#9c179e"
             ],
             [
              0.4444444444444444,
              "#bd3786"
             ],
             [
              0.5555555555555556,
              "#d8576b"
             ],
             [
              0.6666666666666666,
              "#ed7953"
             ],
             [
              0.7777777777777778,
              "#fb9f3a"
             ],
             [
              0.8888888888888888,
              "#fdca26"
             ],
             [
              1,
              "#f0f921"
             ]
            ],
            "type": "heatmap"
           }
          ],
          "heatmapgl": [
           {
            "colorbar": {
             "outlinewidth": 0,
             "ticks": ""
            },
            "colorscale": [
             [
              0,
              "#0d0887"
             ],
             [
              0.1111111111111111,
              "#46039f"
             ],
             [
              0.2222222222222222,
              "#7201a8"
             ],
             [
              0.3333333333333333,
              "#9c179e"
             ],
             [
              0.4444444444444444,
              "#bd3786"
             ],
             [
              0.5555555555555556,
              "#d8576b"
             ],
             [
              0.6666666666666666,
              "#ed7953"
             ],
             [
              0.7777777777777778,
              "#fb9f3a"
             ],
             [
              0.8888888888888888,
              "#fdca26"
             ],
             [
              1,
              "#f0f921"
             ]
            ],
            "type": "heatmapgl"
           }
          ],
          "histogram": [
           {
            "marker": {
             "pattern": {
              "fillmode": "overlay",
              "size": 10,
              "solidity": 0.2
             }
            },
            "type": "histogram"
           }
          ],
          "histogram2d": [
           {
            "colorbar": {
             "outlinewidth": 0,
             "ticks": ""
            },
            "colorscale": [
             [
              0,
              "#0d0887"
             ],
             [
              0.1111111111111111,
              "#46039f"
             ],
             [
              0.2222222222222222,
              "#7201a8"
             ],
             [
              0.3333333333333333,
              "#9c179e"
             ],
             [
              0.4444444444444444,
              "#bd3786"
             ],
             [
              0.5555555555555556,
              "#d8576b"
             ],
             [
              0.6666666666666666,
              "#ed7953"
             ],
             [
              0.7777777777777778,
              "#fb9f3a"
             ],
             [
              0.8888888888888888,
              "#fdca26"
             ],
             [
              1,
              "#f0f921"
             ]
            ],
            "type": "histogram2d"
           }
          ],
          "histogram2dcontour": [
           {
            "colorbar": {
             "outlinewidth": 0,
             "ticks": ""
            },
            "colorscale": [
             [
              0,
              "#0d0887"
             ],
             [
              0.1111111111111111,
              "#46039f"
             ],
             [
              0.2222222222222222,
              "#7201a8"
             ],
             [
              0.3333333333333333,
              "#9c179e"
             ],
             [
              0.4444444444444444,
              "#bd3786"
             ],
             [
              0.5555555555555556,
              "#d8576b"
             ],
             [
              0.6666666666666666,
              "#ed7953"
             ],
             [
              0.7777777777777778,
              "#fb9f3a"
             ],
             [
              0.8888888888888888,
              "#fdca26"
             ],
             [
              1,
              "#f0f921"
             ]
            ],
            "type": "histogram2dcontour"
           }
          ],
          "mesh3d": [
           {
            "colorbar": {
             "outlinewidth": 0,
             "ticks": ""
            },
            "type": "mesh3d"
           }
          ],
          "parcoords": [
           {
            "line": {
             "colorbar": {
              "outlinewidth": 0,
              "ticks": ""
             }
            },
            "type": "parcoords"
           }
          ],
          "pie": [
           {
            "automargin": true,
            "type": "pie"
           }
          ],
          "scatter": [
           {
            "fillpattern": {
             "fillmode": "overlay",
             "size": 10,
             "solidity": 0.2
            },
            "type": "scatter"
           }
          ],
          "scatter3d": [
           {
            "line": {
             "colorbar": {
              "outlinewidth": 0,
              "ticks": ""
             }
            },
            "marker": {
             "colorbar": {
              "outlinewidth": 0,
              "ticks": ""
             }
            },
            "type": "scatter3d"
           }
          ],
          "scattercarpet": [
           {
            "marker": {
             "colorbar": {
              "outlinewidth": 0,
              "ticks": ""
             }
            },
            "type": "scattercarpet"
           }
          ],
          "scattergeo": [
           {
            "marker": {
             "colorbar": {
              "outlinewidth": 0,
              "ticks": ""
             }
            },
            "type": "scattergeo"
           }
          ],
          "scattergl": [
           {
            "marker": {
             "colorbar": {
              "outlinewidth": 0,
              "ticks": ""
             }
            },
            "type": "scattergl"
           }
          ],
          "scattermapbox": [
           {
            "marker": {
             "colorbar": {
              "outlinewidth": 0,
              "ticks": ""
             }
            },
            "type": "scattermapbox"
           }
          ],
          "scatterpolar": [
           {
            "marker": {
             "colorbar": {
              "outlinewidth": 0,
              "ticks": ""
             }
            },
            "type": "scatterpolar"
           }
          ],
          "scatterpolargl": [
           {
            "marker": {
             "colorbar": {
              "outlinewidth": 0,
              "ticks": ""
             }
            },
            "type": "scatterpolargl"
           }
          ],
          "scatterternary": [
           {
            "marker": {
             "colorbar": {
              "outlinewidth": 0,
              "ticks": ""
             }
            },
            "type": "scatterternary"
           }
          ],
          "surface": [
           {
            "colorbar": {
             "outlinewidth": 0,
             "ticks": ""
            },
            "colorscale": [
             [
              0,
              "#0d0887"
             ],
             [
              0.1111111111111111,
              "#46039f"
             ],
             [
              0.2222222222222222,
              "#7201a8"
             ],
             [
              0.3333333333333333,
              "#9c179e"
             ],
             [
              0.4444444444444444,
              "#bd3786"
             ],
             [
              0.5555555555555556,
              "#d8576b"
             ],
             [
              0.6666666666666666,
              "#ed7953"
             ],
             [
              0.7777777777777778,
              "#fb9f3a"
             ],
             [
              0.8888888888888888,
              "#fdca26"
             ],
             [
              1,
              "#f0f921"
             ]
            ],
            "type": "surface"
           }
          ],
          "table": [
           {
            "cells": {
             "fill": {
              "color": "#EBF0F8"
             },
             "line": {
              "color": "white"
             }
            },
            "header": {
             "fill": {
              "color": "#C8D4E3"
             },
             "line": {
              "color": "white"
             }
            },
            "type": "table"
           }
          ]
         },
         "layout": {
          "annotationdefaults": {
           "arrowcolor": "#2a3f5f",
           "arrowhead": 0,
           "arrowwidth": 1
          },
          "autotypenumbers": "strict",
          "coloraxis": {
           "colorbar": {
            "outlinewidth": 0,
            "ticks": ""
           }
          },
          "colorscale": {
           "diverging": [
            [
             0,
             "#8e0152"
            ],
            [
             0.1,
             "#c51b7d"
            ],
            [
             0.2,
             "#de77ae"
            ],
            [
             0.3,
             "#f1b6da"
            ],
            [
             0.4,
             "#fde0ef"
            ],
            [
             0.5,
             "#f7f7f7"
            ],
            [
             0.6,
             "#e6f5d0"
            ],
            [
             0.7,
             "#b8e186"
            ],
            [
             0.8,
             "#7fbc41"
            ],
            [
             0.9,
             "#4d9221"
            ],
            [
             1,
             "#276419"
            ]
           ],
           "sequential": [
            [
             0,
             "#0d0887"
            ],
            [
             0.1111111111111111,
             "#46039f"
            ],
            [
             0.2222222222222222,
             "#7201a8"
            ],
            [
             0.3333333333333333,
             "#9c179e"
            ],
            [
             0.4444444444444444,
             "#bd3786"
            ],
            [
             0.5555555555555556,
             "#d8576b"
            ],
            [
             0.6666666666666666,
             "#ed7953"
            ],
            [
             0.7777777777777778,
             "#fb9f3a"
            ],
            [
             0.8888888888888888,
             "#fdca26"
            ],
            [
             1,
             "#f0f921"
            ]
           ],
           "sequentialminus": [
            [
             0,
             "#0d0887"
            ],
            [
             0.1111111111111111,
             "#46039f"
            ],
            [
             0.2222222222222222,
             "#7201a8"
            ],
            [
             0.3333333333333333,
             "#9c179e"
            ],
            [
             0.4444444444444444,
             "#bd3786"
            ],
            [
             0.5555555555555556,
             "#d8576b"
            ],
            [
             0.6666666666666666,
             "#ed7953"
            ],
            [
             0.7777777777777778,
             "#fb9f3a"
            ],
            [
             0.8888888888888888,
             "#fdca26"
            ],
            [
             1,
             "#f0f921"
            ]
           ]
          },
          "colorway": [
           "#636efa",
           "#EF553B",
           "#00cc96",
           "#ab63fa",
           "#FFA15A",
           "#19d3f3",
           "#FF6692",
           "#B6E880",
           "#FF97FF",
           "#FECB52"
          ],
          "font": {
           "color": "#2a3f5f"
          },
          "geo": {
           "bgcolor": "white",
           "lakecolor": "white",
           "landcolor": "#E5ECF6",
           "showlakes": true,
           "showland": true,
           "subunitcolor": "white"
          },
          "hoverlabel": {
           "align": "left"
          },
          "hovermode": "closest",
          "mapbox": {
           "style": "light"
          },
          "paper_bgcolor": "white",
          "plot_bgcolor": "#E5ECF6",
          "polar": {
           "angularaxis": {
            "gridcolor": "white",
            "linecolor": "white",
            "ticks": ""
           },
           "bgcolor": "#E5ECF6",
           "radialaxis": {
            "gridcolor": "white",
            "linecolor": "white",
            "ticks": ""
           }
          },
          "scene": {
           "xaxis": {
            "backgroundcolor": "#E5ECF6",
            "gridcolor": "white",
            "gridwidth": 2,
            "linecolor": "white",
            "showbackground": true,
            "ticks": "",
            "zerolinecolor": "white"
           },
           "yaxis": {
            "backgroundcolor": "#E5ECF6",
            "gridcolor": "white",
            "gridwidth": 2,
            "linecolor": "white",
            "showbackground": true,
            "ticks": "",
            "zerolinecolor": "white"
           },
           "zaxis": {
            "backgroundcolor": "#E5ECF6",
            "gridcolor": "white",
            "gridwidth": 2,
            "linecolor": "white",
            "showbackground": true,
            "ticks": "",
            "zerolinecolor": "white"
           }
          },
          "shapedefaults": {
           "line": {
            "color": "#2a3f5f"
           }
          },
          "ternary": {
           "aaxis": {
            "gridcolor": "white",
            "linecolor": "white",
            "ticks": ""
           },
           "baxis": {
            "gridcolor": "white",
            "linecolor": "white",
            "ticks": ""
           },
           "bgcolor": "#E5ECF6",
           "caxis": {
            "gridcolor": "white",
            "linecolor": "white",
            "ticks": ""
           }
          },
          "title": {
           "x": 0.05
          },
          "xaxis": {
           "automargin": true,
           "gridcolor": "white",
           "linecolor": "white",
           "ticks": "",
           "title": {
            "standoff": 15
           },
           "zerolinecolor": "white",
           "zerolinewidth": 2
          },
          "yaxis": {
           "automargin": true,
           "gridcolor": "white",
           "linecolor": "white",
           "ticks": "",
           "title": {
            "standoff": 15
           },
           "zerolinecolor": "white",
           "zerolinewidth": 2
          }
         }
        },
        "title": {
         "text": "Brealdown of movie ratings count"
        },
        "width": 800,
        "xaxis": {
         "anchor": "y",
         "domain": [
          0,
          1
         ],
         "title": {
          "text": "Movie Rating"
         }
        },
        "yaxis": {
         "anchor": "x",
         "domain": [
          0,
          1
         ],
         "title": {
          "text": "Count of records (% of total)"
         }
        }
       }
      }
     },
     "metadata": {},
     "output_type": "display_data"
    }
   ],
   "source": [
    "#畫以前的資料\n",
    "fig=px.bar(ratings[\"rating\"].value_counts(normalize=True),\n",
    "           labels={\"value\":\"Count of records (% of total)\",\"index\":\"Movie Rating\"},\n",
    "           width=800,height=400,\n",
    "           title=\"Brealdown of movie ratings count\")\n",
    "fig.update_layout(showlegend=False)\n",
    "fig.show()"
   ]
  },
  {
   "cell_type": "code",
   "execution_count": 15,
   "metadata": {},
   "outputs": [
    {
     "name": "stdout",
     "output_type": "stream",
     "text": [
      "Number of users (N): 943\n",
      "Number of movies (M): 1682\n"
     ]
    }
   ],
   "source": [
    "#獲取資料的用戶數和電影數\n",
    "user_key=\"user_id\"\n",
    "item_key=\"movie_id\"\n",
    "\n",
    "N=len(ratings[user_key].unique())\n",
    "M=len(ratings[item_key].unique())\n",
    "\n",
    "print(f\"Number of users (N): {N}\")\n",
    "print(f\"Number of movies (M): {M}\")"
   ]
  },
  {
   "cell_type": "code",
   "execution_count": 16,
   "metadata": {},
   "outputs": [
    {
     "name": "stdout",
     "output_type": "stream",
     "text": [
      "Average number of ratings per user:106\n",
      "Average number of ratings per movie:59\n"
     ]
    }
   ],
   "source": [
    "print(f\"Average number of ratings per user:{round(len(ratings) / N)}\")\n",
    "print(f\"Average number of ratings per movie:{round(len(ratings) / M)}\")"
   ]
  },
  {
   "cell_type": "code",
   "execution_count": 17,
   "metadata": {},
   "outputs": [
    {
     "data": {
      "text/plain": [
       "((80000, 4), (20000, 4))"
      ]
     },
     "execution_count": 17,
     "metadata": {},
     "output_type": "execute_result"
    }
   ],
   "source": [
    "#切訓練資料與訓練資料\n",
    "x=ratings.copy()\n",
    "y=ratings[user_key]\n",
    "x_train,x_valid,y_train,y_valid=train_test_split(x,y,test_size=0.2,random_state=42)\n",
    "\n",
    "x_train.shape,x_valid.shape"
   ]
  },
  {
   "cell_type": "code",
   "execution_count": 18,
   "metadata": {},
   "outputs": [],
   "source": [
    "#為訓練集與驗證集創建效用矩陣\n",
    "user_mapper=dict(zip(np.unique(ratings[user_key]),list(range(N))))\n",
    "item_mapper=dict(zip(np.unique(ratings[item_key]),list(range(M))))\n",
    "\n",
    "#創建效用矩陣\n",
    "def create_ymatrix_from_ratings(data,N,M):\n",
    "    y=np.zeros((N,M))\n",
    "    y.fill(np.nan)\n",
    "    for index,val in data.iterrows():\n",
    "        n=user_mapper[val[user_key]]\n",
    "        m=item_mapper[val[item_key]]\n",
    "        y[n,m]=val[\"rating\"]\n",
    "\n",
    "    return y"
   ]
  },
  {
   "cell_type": "code",
   "execution_count": 19,
   "metadata": {},
   "outputs": [],
   "source": [
    "#使用函數創造訓練和驗證矩陣\n",
    "train_mat=create_ymatrix_from_ratings(x_train,N,M)\n",
    "valid_mat=create_ymatrix_from_ratings(x_valid,N,M)"
   ]
  },
  {
   "cell_type": "code",
   "execution_count": 20,
   "metadata": {},
   "outputs": [
    {
     "name": "stdout",
     "output_type": "stream",
     "text": [
      "Shape of train_mat N x M: (943, 1682)\n",
      "Shape of valid_mat N x M: (943, 1682)\n"
     ]
    }
   ],
   "source": [
    "print(f\"Shape of train_mat N x M: {train_mat.shape}\")\n",
    "print(f\"Shape of valid_mat N x M: {valid_mat.shape}\")"
   ]
  },
  {
   "cell_type": "code",
   "execution_count": 21,
   "metadata": {},
   "outputs": [],
   "source": [
    "#計算RMSE函數\n",
    "def error(y1,y2):\n",
    "    #返回RMSE\n",
    "    return np.sqrt(np.nanmean((y1-y2) ** 2))\n",
    "\n",
    "def evaluate(pred_y,train_mat,valid_mat,model_name=\"Global average\"):\n",
    "    #評估訓練和驗證RMSE\n",
    "    print(\"%s train RMSE %0.2f\" % (model_name,error(pred_y,train_mat)))\n",
    "    print(\"%s valid RMSE %0.2f\" % (model_name,error(pred_y,valid_mat)))"
   ]
  },
  {
   "cell_type": "code",
   "execution_count": 22,
   "metadata": {},
   "outputs": [
    {
     "name": "stdout",
     "output_type": "stream",
     "text": [
      "Global average train RMSE 1.13\n",
      "Global average valid RMSE 1.12\n"
     ]
    }
   ],
   "source": [
    "#預測每個rating的全局平均\n",
    "global_avg=np.nanmean(train_mat)\n",
    "pred_g=np.zeros(train_mat.shape) + global_avg\n",
    "\n",
    "#評估\n",
    "evaluate(pred_g,train_mat,valid_mat,model_name=\"Global average\")"
   ]
  },
  {
   "cell_type": "code",
   "execution_count": 23,
   "metadata": {},
   "outputs": [
    {
     "name": "stdout",
     "output_type": "stream",
     "text": [
      "Per-user average train RMSE 1.03\n",
      "Per-user average valid RMSE 1.04\n"
     ]
    }
   ],
   "source": [
    "#將每個用戶預測為每個用戶的用戶平均值\n",
    "user_avg=np.nanmean(train_mat,axis=1)\n",
    "pred_n=np.tile(user_avg[:,None],(1,M))\n",
    "\n",
    "#評估\n",
    "evaluate(pred_n,train_mat,valid_mat,model_name=\"Per-user average\")"
   ]
  },
  {
   "cell_type": "code",
   "execution_count": 24,
   "metadata": {},
   "outputs": [
    {
     "name": "stdout",
     "output_type": "stream",
     "text": [
      "Per-movie average train RMSE 1.00\n",
      "Per-movie average valid RMSE 1.02\n"
     ]
    }
   ],
   "source": [
    "#將每個評分預測為每部電影的電影平均值\n",
    "movie_avg=np.nanmean(train_mat,axis=0)\n",
    "pred_m=np.tile(movie_avg[None,:],(N,1))\n",
    "\n",
    "#評估\n",
    "evaluate(pred_m,train_mat,valid_mat,model_name=\"Per-movie average\")"
   ]
  },
  {
   "cell_type": "code",
   "execution_count": 25,
   "metadata": {},
   "outputs": [
    {
     "name": "stdout",
     "output_type": "stream",
     "text": [
      "Per-movie and per-user average train RMSE 0.96\n",
      "Per-movie and per-user average valid RMSE 0.98\n"
     ]
    }
   ],
   "source": [
    "#將每個評分預測為每個用戶和每部電影的平均值\n",
    "pred_nm=(user_avg[:,None] + movie_avg[None,:]) / 2\n",
    "evaluate(pred_nm,train_mat,valid_mat,model_name=\"Per-movie and per-user average\")"
   ]
  },
  {
   "attachments": {},
   "cell_type": "markdown",
   "metadata": {},
   "source": [
    "## 使用KNN"
   ]
  },
  {
   "cell_type": "code",
   "execution_count": 26,
   "metadata": {},
   "outputs": [
    {
     "name": "stdout",
     "output_type": "stream",
     "text": [
      "Knn train RMSE 0.00\n",
      "Knn valid RMSE 0.97\n"
     ]
    }
   ],
   "source": [
    "#刪掉所有為NAN的列\n",
    "knn_train_mat=train_mat[:,~np.all(np.isnan(train_mat),axis=0)]\n",
    "knn_valid_mat=valid_mat[:,~np.all(np.isnan(train_mat),axis=0)]\n",
    "\n",
    "#用相鄰20個作為補插法法\n",
    "imputer=KNNImputer(n_neighbors=20)\n",
    "knn_preds=imputer.fit_transform(knn_train_mat)\n",
    "\n",
    "#評估\n",
    "evaluate(knn_preds,knn_train_mat,knn_valid_mat,model_name=\"Knn\")"
   ]
  },
  {
   "attachments": {},
   "cell_type": "markdown",
   "metadata": {},
   "source": [
    "## 協同過濾"
   ]
  },
  {
   "cell_type": "code",
   "execution_count": 27,
   "metadata": {},
   "outputs": [],
   "source": [
    "ratings_drop=ratings.drop(columns=\"timestamp\")\n",
    "\n",
    "reader=Reader()\n",
    "data=Dataset.load_from_df(ratings_drop,reader) #載入資料\n",
    "\n",
    "trainset,validset=surprise.model_selection.train_test_split(data,test_size=0.2,random_state=42)"
   ]
  },
  {
   "cell_type": "code",
   "execution_count": 28,
   "metadata": {},
   "outputs": [
    {
     "name": "stdout",
     "output_type": "stream",
     "text": [
      "Evaluating RMSE, MAE of algorithm SVD on 5 split(s).\n",
      "\n",
      "                  Fold 1  Fold 2  Fold 3  Fold 4  Fold 5  Mean    Std     \n",
      "RMSE (testset)    0.9346  0.9474  0.9393  0.9430  0.9354  0.9399  0.0048  \n",
      "MAE (testset)     0.7367  0.7493  0.7406  0.7445  0.7403  0.7423  0.0043  \n",
      "Fit time          0.53    0.61    0.54    0.73    0.59    0.60    0.07    \n",
      "Test time         0.13    0.23    0.15    0.13    0.22    0.17    0.04    \n"
     ]
    },
    {
     "data": {
      "text/plain": [
       "test_rmse    0.939930\n",
       "test_mae     0.742253\n",
       "fit_time     0.599112\n",
       "test_time    0.171661\n",
       "dtype: float64"
      ]
     },
     "execution_count": 28,
     "metadata": {},
     "output_type": "execute_result"
    }
   ],
   "source": [
    "#訓練模型與評估\n",
    "k=10 #將維度減少到k\n",
    "s_svd=SVD(n_factors=k,random_state=42)\n",
    "s_svd.fit(trainset)\n",
    "s_svd_preds=s_svd.test(validset)\n",
    "\n",
    "results=cross_validate(s_svd,data,measures=[\"RMSE\",\"MAE\"],cv=5,verbose=True)\n",
    "pd.DataFrame(results).mean()"
   ]
  },
  {
   "cell_type": "code",
   "execution_count": 29,
   "metadata": {},
   "outputs": [
    {
     "name": "stdout",
     "output_type": "stream",
     "text": [
      "RMSE: 0.9328\n"
     ]
    },
    {
     "data": {
      "text/plain": [
       "0.932839700199596"
      ]
     },
     "execution_count": 29,
     "metadata": {},
     "output_type": "execute_result"
    }
   ],
   "source": [
    "#餵進模型\n",
    "trainset,validset=surprise.model_selection.train_test_split(\n",
    "    data,test_size=0.2,random_state=42\n",
    ")\n",
    "\n",
    "k=10\n",
    "algo=SVD(n_factors=k,random_state=42)\n",
    "algo.fit(trainset)\n",
    "svd_preds=algo.test(validset)\n",
    "accuracy.rmse(svd_preds,verbose=True)"
   ]
  },
  {
   "cell_type": "code",
   "execution_count": 30,
   "metadata": {},
   "outputs": [],
   "source": [
    "def get_top_n(predictions,n=10):\n",
    "    #首先將預測map到每個用戶\n",
    "    top_n=defaultdict(list)\n",
    "    for uid,iid,true_r,est, _ in predictions:\n",
    "        top_n[uid].append((iid,est))\n",
    "\n",
    "    #然後對每個用戶的預測進行排序，並檢索k個最高的\n",
    "    for uid,user_ratings in top_n.items():\n",
    "        user_ratings.sort(key=lambda x: x[1],reverse=True)\n",
    "        top_n[uid]=user_ratings[:n]\n",
    "\n",
    "    return top_n\n",
    "\n",
    "def top_n_recs(user_id,n=5):\n",
    "    top_n=get_top_n(svd_preds,n=n)\n",
    "    return pd.DataFrame(top_n[user_id],columns=[\"movie_id\",\"pred\"])"
   ]
  },
  {
   "cell_type": "code",
   "execution_count": 31,
   "metadata": {},
   "outputs": [
    {
     "name": "stdout",
     "output_type": "stream",
     "text": [
      "\n",
      "Top 5 recommendations for user 355\n",
      "   movie_id      pred\n",
      "0       306  4.758351\n",
      "1       882  4.202545\n",
      "2       288  4.188433\n",
      "3       271  3.954318\n",
      "4       689  3.691379\n",
      "\n",
      "Top 5 recommendations for user 586\n",
      "   movie_id      pred\n",
      "0        22  3.914017\n",
      "1       195  3.854375\n",
      "2       186  3.763902\n",
      "3       117  3.738260\n",
      "4       735  3.725849\n",
      "\n",
      "Top 5 recommendations for user 95\n",
      "   movie_id      pred\n",
      "0        22  4.621665\n",
      "1       144  4.212069\n",
      "2        95  4.146178\n",
      "3        71  4.092669\n",
      "4        28  4.063005\n",
      "\n",
      "Top 5 recommendations for user 856\n",
      "   movie_id      pred\n",
      "0       316  4.016693\n",
      "1       749  3.143291\n",
      "2       322  2.932883\n",
      "3       678  2.527667\n",
      "\n",
      "Top 5 recommendations for user 268\n",
      "   movie_id      pred\n",
      "0        50  4.023189\n",
      "1       114  3.931475\n",
      "2       238  3.844342\n",
      "3       223  3.765577\n",
      "4       525  3.738543\n"
     ]
    }
   ],
   "source": [
    "#獲取5個隨機用戶的前5個推薦\n",
    "user_id_sample=ratings[\"user_id\"].sample(5).to_list()\n",
    "n=5\n",
    "for user_id in user_id_sample:\n",
    "    print(\"\\nTop %d recommendations for user %d\" % (n,user_id))\n",
    "    print(top_n_recs(user_id))"
   ]
  },
  {
   "attachments": {},
   "cell_type": "markdown",
   "metadata": {},
   "source": [
    "## 內容過濾"
   ]
  },
  {
   "cell_type": "code",
   "execution_count": 32,
   "metadata": {},
   "outputs": [
    {
     "data": {
      "text/html": [
       "<div>\n",
       "<style scoped>\n",
       "    .dataframe tbody tr th:only-of-type {\n",
       "        vertical-align: middle;\n",
       "    }\n",
       "\n",
       "    .dataframe tbody tr th {\n",
       "        vertical-align: top;\n",
       "    }\n",
       "\n",
       "    .dataframe thead th {\n",
       "        text-align: right;\n",
       "    }\n",
       "</style>\n",
       "<table border=\"1\" class=\"dataframe\">\n",
       "  <thead>\n",
       "    <tr style=\"text-align: right;\">\n",
       "      <th></th>\n",
       "      <th>Action</th>\n",
       "      <th>Adventure</th>\n",
       "      <th>Animation</th>\n",
       "      <th>Children</th>\n",
       "      <th>Comedy</th>\n",
       "      <th>Crime</th>\n",
       "      <th>Documentary</th>\n",
       "      <th>Drama</th>\n",
       "      <th>Fantasy</th>\n",
       "      <th>Film-Noir</th>\n",
       "      <th>Horror</th>\n",
       "      <th>Musical</th>\n",
       "      <th>Mystery</th>\n",
       "      <th>Romance</th>\n",
       "      <th>Sci-Fi</th>\n",
       "      <th>Thriller</th>\n",
       "      <th>War</th>\n",
       "      <th>Western</th>\n",
       "    </tr>\n",
       "  </thead>\n",
       "  <tbody>\n",
       "    <tr>\n",
       "      <th>0</th>\n",
       "      <td>0</td>\n",
       "      <td>0</td>\n",
       "      <td>1</td>\n",
       "      <td>1</td>\n",
       "      <td>1</td>\n",
       "      <td>0</td>\n",
       "      <td>0</td>\n",
       "      <td>0</td>\n",
       "      <td>0</td>\n",
       "      <td>0</td>\n",
       "      <td>0</td>\n",
       "      <td>0</td>\n",
       "      <td>0</td>\n",
       "      <td>0</td>\n",
       "      <td>0</td>\n",
       "      <td>0</td>\n",
       "      <td>0</td>\n",
       "      <td>0</td>\n",
       "    </tr>\n",
       "    <tr>\n",
       "      <th>1</th>\n",
       "      <td>1</td>\n",
       "      <td>1</td>\n",
       "      <td>0</td>\n",
       "      <td>0</td>\n",
       "      <td>0</td>\n",
       "      <td>0</td>\n",
       "      <td>0</td>\n",
       "      <td>0</td>\n",
       "      <td>0</td>\n",
       "      <td>0</td>\n",
       "      <td>0</td>\n",
       "      <td>0</td>\n",
       "      <td>0</td>\n",
       "      <td>0</td>\n",
       "      <td>0</td>\n",
       "      <td>1</td>\n",
       "      <td>0</td>\n",
       "      <td>0</td>\n",
       "    </tr>\n",
       "    <tr>\n",
       "      <th>2</th>\n",
       "      <td>0</td>\n",
       "      <td>0</td>\n",
       "      <td>0</td>\n",
       "      <td>0</td>\n",
       "      <td>0</td>\n",
       "      <td>0</td>\n",
       "      <td>0</td>\n",
       "      <td>0</td>\n",
       "      <td>0</td>\n",
       "      <td>0</td>\n",
       "      <td>0</td>\n",
       "      <td>0</td>\n",
       "      <td>0</td>\n",
       "      <td>0</td>\n",
       "      <td>0</td>\n",
       "      <td>1</td>\n",
       "      <td>0</td>\n",
       "      <td>0</td>\n",
       "    </tr>\n",
       "    <tr>\n",
       "      <th>3</th>\n",
       "      <td>1</td>\n",
       "      <td>0</td>\n",
       "      <td>0</td>\n",
       "      <td>0</td>\n",
       "      <td>1</td>\n",
       "      <td>0</td>\n",
       "      <td>0</td>\n",
       "      <td>1</td>\n",
       "      <td>0</td>\n",
       "      <td>0</td>\n",
       "      <td>0</td>\n",
       "      <td>0</td>\n",
       "      <td>0</td>\n",
       "      <td>0</td>\n",
       "      <td>0</td>\n",
       "      <td>0</td>\n",
       "      <td>0</td>\n",
       "      <td>0</td>\n",
       "    </tr>\n",
       "    <tr>\n",
       "      <th>4</th>\n",
       "      <td>0</td>\n",
       "      <td>0</td>\n",
       "      <td>0</td>\n",
       "      <td>0</td>\n",
       "      <td>0</td>\n",
       "      <td>1</td>\n",
       "      <td>0</td>\n",
       "      <td>1</td>\n",
       "      <td>0</td>\n",
       "      <td>0</td>\n",
       "      <td>0</td>\n",
       "      <td>0</td>\n",
       "      <td>0</td>\n",
       "      <td>0</td>\n",
       "      <td>0</td>\n",
       "      <td>1</td>\n",
       "      <td>0</td>\n",
       "      <td>0</td>\n",
       "    </tr>\n",
       "  </tbody>\n",
       "</table>\n",
       "</div>"
      ],
      "text/plain": [
       "   Action  Adventure  Animation  Children  Comedy  Crime  Documentary  Drama  \\\n",
       "0       0          0          1         1       1      0            0      0   \n",
       "1       1          1          0         0       0      0            0      0   \n",
       "2       0          0          0         0       0      0            0      0   \n",
       "3       1          0          0         0       1      0            0      1   \n",
       "4       0          0          0         0       0      1            0      1   \n",
       "\n",
       "   Fantasy  Film-Noir  Horror  Musical  Mystery  Romance  Sci-Fi  Thriller  \\\n",
       "0        0          0       0        0        0        0       0         0   \n",
       "1        0          0       0        0        0        0       0         1   \n",
       "2        0          0       0        0        0        0       0         1   \n",
       "3        0          0       0        0        0        0       0         0   \n",
       "4        0          0       0        0        0        0       0         1   \n",
       "\n",
       "   War  Western  \n",
       "0    0        0  \n",
       "1    0        0  \n",
       "2    0        0  \n",
       "3    0        0  \n",
       "4    0        0  "
      ]
     },
     "execution_count": 32,
     "metadata": {},
     "output_type": "execute_result"
    }
   ],
   "source": [
    "#只取電影的類型\n",
    "genres=[\n",
    "    \"Action\",\n",
    "    \"Adventure\",\n",
    "    \"Animation\",\n",
    "    \"Children\",\n",
    "    \"Comedy\",\n",
    "    \"Crime\",\n",
    "    \"Documentary\",\n",
    "    \"Drama\",\n",
    "    \"Fantasy\",\n",
    "    \"Film-Noir\",\n",
    "    \"Horror\",\n",
    "    \"Musical\",\n",
    "    \"Mystery\",\n",
    "    \"Romance\",\n",
    "    \"Sci-Fi\",\n",
    "    \"Thriller\",\n",
    "    \"War\",\n",
    "    \"Western\",\n",
    "]\n",
    "movie_genres=items[genres]\n",
    "movie_genres.head()"
   ]
  },
  {
   "cell_type": "code",
   "execution_count": 33,
   "metadata": {},
   "outputs": [
    {
     "name": "stdout",
     "output_type": "stream",
     "text": [
      "Average number of genres per movie: 1.7\n"
     ]
    }
   ],
   "source": [
    "z=movie_genres.to_numpy()\n",
    "z.shape\n",
    "print(\"Average number of genres per movie: %.1f\" % (z.sum()/M))"
   ]
  },
  {
   "cell_type": "code",
   "execution_count": 34,
   "metadata": {},
   "outputs": [],
   "source": [
    "def get_x_y_per_user(ratings_df, d=z.shape[1]):\n",
    "    \"\"\"\n",
    "    Returns X and y for each user.\n",
    "\n",
    "    Parameters:\n",
    "    ----------\n",
    "    ratings_df : pandas.DataFrame\n",
    "         ratings data as a dataframe\n",
    "\n",
    "    d : int\n",
    "        number of item features\n",
    "\n",
    "    Return:\n",
    "    ----------\n",
    "        dictionaries containing X and y for all users\n",
    "    \"\"\"\n",
    "    lr_y = defaultdict(list)\n",
    "    lr_X = defaultdict(list)\n",
    "\n",
    "    for index, val in ratings_df.iterrows():\n",
    "        n = user_mapper[val[user_key]]\n",
    "        m = item_mapper[val[item_key]]\n",
    "        lr_X[n].append(z[m])\n",
    "        lr_y[n].append(val[\"rating\"])\n",
    "\n",
    "    for n in lr_X:\n",
    "        lr_X[n] = np.array(lr_X[n])\n",
    "        lr_y[n] = np.array(lr_y[n])\n",
    "\n",
    "    return lr_X, lr_y"
   ]
  },
  {
   "cell_type": "code",
   "execution_count": 35,
   "metadata": {},
   "outputs": [],
   "source": [
    "x_train_user,y_train_user=get_x_y_per_user(x_train)\n",
    "x_valid_user,y_valid_user=get_x_y_per_user(x_valid)"
   ]
  },
  {
   "cell_type": "code",
   "execution_count": 36,
   "metadata": {},
   "outputs": [
    {
     "name": "stdout",
     "output_type": "stream",
     "text": [
      "User 1:\n",
      "Shape of x_train_user for one user (movies x genres): (46, 18)\n",
      "Shape of x_train_user for one user (movies x rating): (46, 1)\n",
      "\n",
      "User 25:\n",
      "shape of x_train_user for another user (movie x genres): (85, 18)\n",
      "shape of x_train_user for another user (movie x user rating): (85, 1)\n"
     ]
    }
   ],
   "source": [
    "print(\"User 1:\")\n",
    "print(f\"Shape of x_train_user for one user (movies x genres): {pd.DataFrame(x_train_user[1]).shape}\")\n",
    "print(f\"Shape of x_train_user for one user (movies x rating): {pd.DataFrame(y_train_user[1]).shape}\")\n",
    "print(\"\")\n",
    "print(\"User 25:\")\n",
    "print(f\"shape of x_train_user for another user (movie x genres): {pd.DataFrame(x_train_user[25]).shape}\")\n",
    "print(f\"shape of x_train_user for another user (movie x user rating): {pd.DataFrame(y_train_user[25]).shape}\")\n"
   ]
  },
  {
   "cell_type": "code",
   "execution_count": 37,
   "metadata": {},
   "outputs": [],
   "source": [
    "def train_user(user_name,model=Ridge()):\n",
    "    x=x_train_user[user_name]\n",
    "    y=y_train_user[user_name]\n",
    "    model.fit(x,y)\n",
    "    return model\n",
    "\n",
    "def predict_user(model):\n",
    "    feat_vecs=movie_genres\n",
    "    preds=model.predict(feat_vecs)\n",
    "    return preds"
   ]
  },
  {
   "cell_type": "code",
   "execution_count": 38,
   "metadata": {},
   "outputs": [
    {
     "data": {
      "text/html": [
       "<div>\n",
       "<style scoped>\n",
       "    .dataframe tbody tr th:only-of-type {\n",
       "        vertical-align: middle;\n",
       "    }\n",
       "\n",
       "    .dataframe tbody tr th {\n",
       "        vertical-align: top;\n",
       "    }\n",
       "\n",
       "    .dataframe thead th {\n",
       "        text-align: right;\n",
       "    }\n",
       "</style>\n",
       "<table border=\"1\" class=\"dataframe\">\n",
       "  <thead>\n",
       "    <tr style=\"text-align: right;\">\n",
       "      <th></th>\n",
       "      <th>0</th>\n",
       "    </tr>\n",
       "  </thead>\n",
       "  <tbody>\n",
       "    <tr>\n",
       "      <th>0</th>\n",
       "      <td>2.399218</td>\n",
       "    </tr>\n",
       "    <tr>\n",
       "      <th>1</th>\n",
       "      <td>2.863537</td>\n",
       "    </tr>\n",
       "    <tr>\n",
       "      <th>2</th>\n",
       "      <td>3.549176</td>\n",
       "    </tr>\n",
       "    <tr>\n",
       "      <th>3</th>\n",
       "      <td>3.892106</td>\n",
       "    </tr>\n",
       "    <tr>\n",
       "      <th>4</th>\n",
       "      <td>3.755807</td>\n",
       "    </tr>\n",
       "  </tbody>\n",
       "</table>\n",
       "</div>"
      ],
      "text/plain": [
       "          0\n",
       "0  2.399218\n",
       "1  2.863537\n",
       "2  3.549176\n",
       "3  3.892106\n",
       "4  3.755807"
      ]
     },
     "execution_count": 38,
     "metadata": {},
     "output_type": "execute_result"
    }
   ],
   "source": [
    "#為第一個user訓練和預測\n",
    "model_1=train_user(0)\n",
    "preds=predict_user(model_1)\n",
    "recon_x=pd.DataFrame(preds)\n",
    "\n",
    "recon_x.head()"
   ]
  },
  {
   "cell_type": "code",
   "execution_count": 39,
   "metadata": {},
   "outputs": [
    {
     "data": {
      "text/plain": [
       "array([[nan,  3.,  4., ..., nan, nan, nan],\n",
       "       [ 4., nan, nan, ..., nan, nan, nan],\n",
       "       [nan, nan, nan, ..., nan, nan, nan],\n",
       "       ...,\n",
       "       [ 5., nan, nan, ..., nan, nan, nan],\n",
       "       [nan, nan, nan, ..., nan, nan, nan],\n",
       "       [nan,  5., nan, ..., nan, nan, nan]])"
      ]
     },
     "execution_count": 39,
     "metadata": {},
     "output_type": "execute_result"
    }
   ],
   "source": [
    "train_mat"
   ]
  },
  {
   "cell_type": "code",
   "execution_count": 40,
   "metadata": {},
   "outputs": [],
   "source": [
    "#為每個使用者訓練和預測\n",
    "users=range(1,train_mat.shape[0])\n",
    "\n",
    "for i in users:\n",
    "    model=train_user(i)\n",
    "    scores=predict_user(model)\n",
    "    recon_x[i]=pd.DataFrame(scores)"
   ]
  },
  {
   "cell_type": "code",
   "execution_count": 41,
   "metadata": {},
   "outputs": [
    {
     "data": {
      "text/html": [
       "<div>\n",
       "<style scoped>\n",
       "    .dataframe tbody tr th:only-of-type {\n",
       "        vertical-align: middle;\n",
       "    }\n",
       "\n",
       "    .dataframe tbody tr th {\n",
       "        vertical-align: top;\n",
       "    }\n",
       "\n",
       "    .dataframe thead th {\n",
       "        text-align: right;\n",
       "    }\n",
       "</style>\n",
       "<table border=\"1\" class=\"dataframe\">\n",
       "  <thead>\n",
       "    <tr style=\"text-align: right;\">\n",
       "      <th></th>\n",
       "      <th>0</th>\n",
       "      <th>1</th>\n",
       "      <th>2</th>\n",
       "      <th>3</th>\n",
       "      <th>4</th>\n",
       "      <th>5</th>\n",
       "      <th>6</th>\n",
       "      <th>7</th>\n",
       "      <th>8</th>\n",
       "      <th>9</th>\n",
       "      <th>...</th>\n",
       "      <th>1672</th>\n",
       "      <th>1673</th>\n",
       "      <th>1674</th>\n",
       "      <th>1675</th>\n",
       "      <th>1676</th>\n",
       "      <th>1677</th>\n",
       "      <th>1678</th>\n",
       "      <th>1679</th>\n",
       "      <th>1680</th>\n",
       "      <th>1681</th>\n",
       "    </tr>\n",
       "  </thead>\n",
       "  <tbody>\n",
       "    <tr>\n",
       "      <th>0</th>\n",
       "      <td>2.399218</td>\n",
       "      <td>2.863537</td>\n",
       "      <td>3.549176</td>\n",
       "      <td>3.892106</td>\n",
       "      <td>3.755807</td>\n",
       "      <td>4.043851</td>\n",
       "      <td>4.691223</td>\n",
       "      <td>2.828793</td>\n",
       "      <td>4.043851</td>\n",
       "      <td>3.880620</td>\n",
       "      <td>...</td>\n",
       "      <td>3.325411</td>\n",
       "      <td>4.043851</td>\n",
       "      <td>4.043851</td>\n",
       "      <td>4.043851</td>\n",
       "      <td>4.043851</td>\n",
       "      <td>4.043851</td>\n",
       "      <td>3.870601</td>\n",
       "      <td>4.365276</td>\n",
       "      <td>3.629682</td>\n",
       "      <td>4.043851</td>\n",
       "    </tr>\n",
       "    <tr>\n",
       "      <th>1</th>\n",
       "      <td>3.478037</td>\n",
       "      <td>4.368664</td>\n",
       "      <td>3.162929</td>\n",
       "      <td>4.699790</td>\n",
       "      <td>3.860238</td>\n",
       "      <td>3.819291</td>\n",
       "      <td>3.459575</td>\n",
       "      <td>3.703311</td>\n",
       "      <td>3.819291</td>\n",
       "      <td>3.940570</td>\n",
       "      <td>...</td>\n",
       "      <td>3.550115</td>\n",
       "      <td>3.819291</td>\n",
       "      <td>3.819291</td>\n",
       "      <td>3.819291</td>\n",
       "      <td>3.819291</td>\n",
       "      <td>3.819291</td>\n",
       "      <td>3.612328</td>\n",
       "      <td>4.268690</td>\n",
       "      <td>3.565369</td>\n",
       "      <td>3.819291</td>\n",
       "    </tr>\n",
       "    <tr>\n",
       "      <th>2</th>\n",
       "      <td>2.513182</td>\n",
       "      <td>2.525054</td>\n",
       "      <td>2.101808</td>\n",
       "      <td>3.048204</td>\n",
       "      <td>3.000602</td>\n",
       "      <td>2.934748</td>\n",
       "      <td>2.714180</td>\n",
       "      <td>2.732854</td>\n",
       "      <td>2.934748</td>\n",
       "      <td>2.909098</td>\n",
       "      <td>...</td>\n",
       "      <td>2.417158</td>\n",
       "      <td>2.934748</td>\n",
       "      <td>2.934748</td>\n",
       "      <td>2.934748</td>\n",
       "      <td>2.934748</td>\n",
       "      <td>2.934748</td>\n",
       "      <td>2.633232</td>\n",
       "      <td>3.466172</td>\n",
       "      <td>2.513182</td>\n",
       "      <td>2.934748</td>\n",
       "    </tr>\n",
       "    <tr>\n",
       "      <th>3</th>\n",
       "      <td>5.031081</td>\n",
       "      <td>3.461739</td>\n",
       "      <td>4.403304</td>\n",
       "      <td>4.966239</td>\n",
       "      <td>4.753188</td>\n",
       "      <td>4.818288</td>\n",
       "      <td>4.484910</td>\n",
       "      <td>5.214774</td>\n",
       "      <td>4.818288</td>\n",
       "      <td>4.818288</td>\n",
       "      <td>...</td>\n",
       "      <td>4.154768</td>\n",
       "      <td>4.818288</td>\n",
       "      <td>4.818288</td>\n",
       "      <td>4.818288</td>\n",
       "      <td>4.818288</td>\n",
       "      <td>4.818288</td>\n",
       "      <td>4.022303</td>\n",
       "      <td>4.437287</td>\n",
       "      <td>5.031081</td>\n",
       "      <td>4.818288</td>\n",
       "    </tr>\n",
       "    <tr>\n",
       "      <th>4</th>\n",
       "      <td>3.459727</td>\n",
       "      <td>2.511443</td>\n",
       "      <td>2.216249</td>\n",
       "      <td>3.459372</td>\n",
       "      <td>3.918273</td>\n",
       "      <td>2.736089</td>\n",
       "      <td>3.540800</td>\n",
       "      <td>2.591529</td>\n",
       "      <td>2.736089</td>\n",
       "      <td>2.903190</td>\n",
       "      <td>...</td>\n",
       "      <td>2.330173</td>\n",
       "      <td>2.736089</td>\n",
       "      <td>2.736089</td>\n",
       "      <td>2.736089</td>\n",
       "      <td>2.736089</td>\n",
       "      <td>2.736089</td>\n",
       "      <td>1.403143</td>\n",
       "      <td>1.922983</td>\n",
       "      <td>2.977611</td>\n",
       "      <td>2.736089</td>\n",
       "    </tr>\n",
       "  </tbody>\n",
       "</table>\n",
       "<p>5 rows × 1682 columns</p>\n",
       "</div>"
      ],
      "text/plain": [
       "       0         1         2         3         4         5         6     \\\n",
       "0  2.399218  2.863537  3.549176  3.892106  3.755807  4.043851  4.691223   \n",
       "1  3.478037  4.368664  3.162929  4.699790  3.860238  3.819291  3.459575   \n",
       "2  2.513182  2.525054  2.101808  3.048204  3.000602  2.934748  2.714180   \n",
       "3  5.031081  3.461739  4.403304  4.966239  4.753188  4.818288  4.484910   \n",
       "4  3.459727  2.511443  2.216249  3.459372  3.918273  2.736089  3.540800   \n",
       "\n",
       "       7         8         9     ...      1672      1673      1674      1675  \\\n",
       "0  2.828793  4.043851  3.880620  ...  3.325411  4.043851  4.043851  4.043851   \n",
       "1  3.703311  3.819291  3.940570  ...  3.550115  3.819291  3.819291  3.819291   \n",
       "2  2.732854  2.934748  2.909098  ...  2.417158  2.934748  2.934748  2.934748   \n",
       "3  5.214774  4.818288  4.818288  ...  4.154768  4.818288  4.818288  4.818288   \n",
       "4  2.591529  2.736089  2.903190  ...  2.330173  2.736089  2.736089  2.736089   \n",
       "\n",
       "       1676      1677      1678      1679      1680      1681  \n",
       "0  4.043851  4.043851  3.870601  4.365276  3.629682  4.043851  \n",
       "1  3.819291  3.819291  3.612328  4.268690  3.565369  3.819291  \n",
       "2  2.934748  2.934748  2.633232  3.466172  2.513182  2.934748  \n",
       "3  4.818288  4.818288  4.022303  4.437287  5.031081  4.818288  \n",
       "4  2.736089  2.736089  1.403143  1.922983  2.977611  2.736089  \n",
       "\n",
       "[5 rows x 1682 columns]"
      ]
     },
     "execution_count": 41,
     "metadata": {},
     "output_type": "execute_result"
    }
   ],
   "source": [
    "#在效用矩陣中所有電影的預測\n",
    "recon_x.T.head()"
   ]
  },
  {
   "cell_type": "code",
   "execution_count": 42,
   "metadata": {},
   "outputs": [
    {
     "name": "stdout",
     "output_type": "stream",
     "text": [
      "Content-Based filtering train RMSE 0.91\n",
      "Content-Based filtering valid RMSE 1.05\n"
     ]
    }
   ],
   "source": [
    "evaluate(recon_x.T,train_mat,valid_mat,model_name=\"Content-Based filtering\")"
   ]
  }
 ],
 "metadata": {
  "kernelspec": {
   "display_name": "base",
   "language": "python",
   "name": "python3"
  },
  "language_info": {
   "codemirror_mode": {
    "name": "ipython",
    "version": 3
   },
   "file_extension": ".py",
   "mimetype": "text/x-python",
   "name": "python",
   "nbconvert_exporter": "python",
   "pygments_lexer": "ipython3",
   "version": "3.10.9"
  },
  "orig_nbformat": 4
 },
 "nbformat": 4,
 "nbformat_minor": 2
}
